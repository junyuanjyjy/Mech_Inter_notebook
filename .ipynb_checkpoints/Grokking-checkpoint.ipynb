{
 "cells": [
  {
   "cell_type": "code",
   "execution_count": 18,
   "id": "2122e0ff-05c7-4f59-a069-cfacf49a11e8",
   "metadata": {},
   "outputs": [],
   "source": [
    "import torch\n",
    "import einops\n",
    "import transformer_lens\n",
    "from transformer_lens import HookedTransformer, HookedTransformerConfig, FactoredMatrix, ActivationCache\n",
    "device = 'cuda' if torch.cuda.is_available() else 'cpu'"
   ]
  },
  {
   "cell_type": "code",
   "execution_count": 8,
   "id": "d429d1c0-baff-4fdc-b470-1af425a25842",
   "metadata": {},
   "outputs": [],
   "source": [
    "p = 113\n",
    "a_vector = einops.repeat(torch.arange(p,device=device), 'i -> (i j)', j=p)\n",
    "b_vector = einops.repeat(torch.arange(p,device=device), 'j -> (i j)', i=p)\n",
    "equals_vector = einops.repeat(torch.tensor(113), ' -> (i j)', i=p,j=p)"
   ]
  },
  {
   "cell_type": "code",
   "execution_count": 9,
   "id": "95fe6cf6-f7a7-4270-8c4b-1ba743cc42ea",
   "metadata": {},
   "outputs": [
    {
     "name": "stdout",
     "output_type": "stream",
     "text": [
      "tensor([[  0,   5, 113],\n",
      "        [  0,   6, 113],\n",
      "        [  0,   7, 113],\n",
      "        ...,\n",
      "        [112, 110, 113],\n",
      "        [112, 111, 113],\n",
      "        [112, 112, 113]])\n"
     ]
    }
   ],
   "source": [
    "dataset = torch.stack([a_vector,b_vector,equals_vector],dim=1)\n",
    "dataset = dataset.to(device)\n",
    "print(dataset[5:])"
   ]
  },
  {
   "cell_type": "code",
   "execution_count": 10,
   "id": "030dc98c-b9bf-4993-9a75-2ce06dcc4bf2",
   "metadata": {},
   "outputs": [
    {
     "name": "stdout",
     "output_type": "stream",
     "text": [
      "torch.Size([12769])\n",
      "tensor([0, 1, 2, 3, 4])\n"
     ]
    }
   ],
   "source": [
    "labels = (dataset[:,0] + dataset[:,1]) % p\n",
    "print(labels.shape)\n",
    "print(labels[:5])"
   ]
  },
  {
   "cell_type": "code",
   "execution_count": 11,
   "id": "0084ad57-b396-4512-bdb7-6f948203c8e6",
   "metadata": {},
   "outputs": [],
   "source": [
    "indices = torch.randperm(p*p)\n",
    "cutoff = int(p*p*0.3)\n",
    "train_indices = indices[:cutoff]\n",
    "test_indices = indices[cutoff:]\n",
    "train_data = dataset[train_indices]\n",
    "test_data = dataset[test_indices]\n",
    "train_labels = labels[train_indices]\n",
    "test_labels = labels[test_indices]"
   ]
  },
  {
   "cell_type": "code",
   "execution_count": 359,
   "id": "f49aef47-0d32-404c-9374-59837cc4cc9e",
   "metadata": {},
   "outputs": [
    {
     "data": {
      "text/plain": [
       "tensor([1379, 4519, 5648,  ..., 2701, 9462, 1597])"
      ]
     },
     "execution_count": 359,
     "metadata": {},
     "output_type": "execute_result"
    }
   ],
   "source": [
    "indices"
   ]
  },
  {
   "cell_type": "code",
   "execution_count": 19,
   "id": "9ec9eb33-75f5-401a-bfd5-adb2aaaa8637",
   "metadata": {},
   "outputs": [],
   "source": [
    "cfg = HookedTransformerConfig(\n",
    "    n_layers = 1,\n",
    "    n_heads = 4,\n",
    "    d_model = 128,\n",
    "    d_head = 32,\n",
    "    d_mlp = 512,\n",
    "    act_fn = 'relu',\n",
    "    normalization_type = None,\n",
    "    d_vocab=p+1,\n",
    "    d_vocab_out=p,\n",
    "    n_ctx=3,\n",
    "    init_weights=True\n",
    " )"
   ]
  },
  {
   "cell_type": "code",
   "execution_count": 20,
   "id": "d84c03a2-c649-420e-96f1-7acc3d056549",
   "metadata": {},
   "outputs": [
    {
     "name": "stdout",
     "output_type": "stream",
     "text": [
      "Moving model to device:  cpu\n"
     ]
    }
   ],
   "source": [
    "model = HookedTransformer(cfg)\n",
    "m = model.to(device)"
   ]
  },
  {
   "cell_type": "code",
   "execution_count": 306,
   "id": "ef82d6ad-e75f-4147-8b8f-62aea80dd9c3",
   "metadata": {},
   "outputs": [],
   "source": [
    "for name, param in model.named_parameters():\n",
    "    if \"b_\" in name:\n",
    "        param.requires_grad = False"
   ]
  },
  {
   "cell_type": "code",
   "execution_count": 23,
   "id": "db564bf4-fdc6-4841-9abb-2b787890795d",
   "metadata": {},
   "outputs": [],
   "source": [
    "lr = 1e-3\n",
    "wd = 1.\n",
    "betas = (0.9,0.98)\n",
    "num_epochs = 100\n",
    "checkpoint_every = 10"
   ]
  },
  {
   "cell_type": "code",
   "execution_count": 24,
   "id": "e63ac1e4-9d09-47fb-b9d7-393eb5259f3a",
   "metadata": {},
   "outputs": [],
   "source": [
    "optimizer = torch.optim.AdamW(model.parameters(),lr=lr,weight_decay=wd,betas=betas)"
   ]
  },
  {
   "cell_type": "code",
   "execution_count": 21,
   "id": "8b2c1fb2-841e-4a23-8c48-9feacc261f38",
   "metadata": {},
   "outputs": [],
   "source": [
    "def loss_fn(logits,labels):\n",
    "    if len(logits.shape)==3:\n",
    "        logits = logits[:,-1]\n",
    "    logits = logits.to(torch.float64)\n",
    "    log_probs = logits.log_softmax(dim=-1)\n",
    "    correct_log_probs = log_probs.gather(dim=-1,index=labels[:,None])[:,0]\n",
    "    return -correct_log_probs.mean()"
   ]
  },
  {
   "cell_type": "code",
   "execution_count": 357,
   "id": "8c5f348a-0454-4b5c-b71e-e38137686f02",
   "metadata": {},
   "outputs": [
    {
     "data": {
      "text/plain": [
       "tensor([[ 12,  23, 113],\n",
       "        [ 39, 112, 113],\n",
       "        [ 49, 111, 113],\n",
       "        ...,\n",
       "        [104,  29, 113],\n",
       "        [ 62,  58, 113],\n",
       "        [ 88,  20, 113]])"
      ]
     },
     "execution_count": 357,
     "metadata": {},
     "output_type": "execute_result"
    }
   ],
   "source": [
    "train_data"
   ]
  },
  {
   "cell_type": "code",
   "execution_count": 355,
   "id": "14a1c068-82b7-4396-bc0c-f1b578b64c31",
   "metadata": {},
   "outputs": [
    {
     "data": {
      "text/plain": [
       "tensor(59)"
      ]
     },
     "execution_count": 355,
     "metadata": {},
     "output_type": "execute_result"
    }
   ],
   "source": [
    "train_labels[114]"
   ]
  },
  {
   "cell_type": "code",
   "execution_count": 310,
   "id": "3e09a894-4090-4d4c-8a56-37dc71e45c6d",
   "metadata": {},
   "outputs": [
    {
     "name": "stdout",
     "output_type": "stream",
     "text": [
      "tensor(4.7330, dtype=torch.float64, grad_fn=<NegBackward0>)\n",
      "tensor(4.7331, dtype=torch.float64, grad_fn=<NegBackward0>)\n"
     ]
    }
   ],
   "source": [
    "train_logits = model(train_data)\n",
    "train_loss = loss_fn(train_logits,train_labels)\n",
    "print(train_loss)\n",
    "test_logits = model(test_data)\n",
    "test_loss = loss_fn(test_logits,test_labels)\n",
    "print(test_loss)"
   ]
  },
  {
   "cell_type": "code",
   "execution_count": 311,
   "id": "b6937d4e-f36d-4374-b1ce-413795948a3c",
   "metadata": {},
   "outputs": [
    {
     "name": "stdout",
     "output_type": "stream",
     "text": [
      "4.727387818712341\n"
     ]
    }
   ],
   "source": [
    "print(np.log(p))"
   ]
  },
  {
   "cell_type": "code",
   "execution_count": 312,
   "id": "cca11923-4703-4692-b923-7b30dec6603e",
   "metadata": {},
   "outputs": [
    {
     "name": "stderr",
     "output_type": "stream",
     "text": [
      "  1%|█▊                                                                                                                                                                             | 1/100 [00:00<01:12,  1.37it/s]"
     ]
    },
    {
     "name": "stdout",
     "output_type": "stream",
     "text": [
      "Epoch 0 Train Loss 4.732968422566483 Test :pss 4.7331132198038075\n"
     ]
    },
    {
     "name": "stderr",
     "output_type": "stream",
     "text": [
      " 11%|███████████████████▏                                                                                                                                                          | 11/100 [00:07<01:01,  1.45it/s]"
     ]
    },
    {
     "name": "stdout",
     "output_type": "stream",
     "text": [
      "Epoch 10 Train Loss 4.732968422566483 Test :pss 4.7331132198038075\n"
     ]
    },
    {
     "name": "stderr",
     "output_type": "stream",
     "text": [
      " 21%|████████████████████████████████████▌                                                                                                                                         | 21/100 [00:14<00:58,  1.36it/s]"
     ]
    },
    {
     "name": "stdout",
     "output_type": "stream",
     "text": [
      "Epoch 20 Train Loss 4.732968422566483 Test :pss 4.7331132198038075\n"
     ]
    },
    {
     "name": "stderr",
     "output_type": "stream",
     "text": [
      " 31%|█████████████████████████████████████████████████████▉                                                                                                                        | 31/100 [00:21<00:48,  1.42it/s]"
     ]
    },
    {
     "name": "stdout",
     "output_type": "stream",
     "text": [
      "Epoch 30 Train Loss 4.732968422566483 Test :pss 4.7331132198038075\n"
     ]
    },
    {
     "name": "stderr",
     "output_type": "stream",
     "text": [
      " 41%|███████████████████████████████████████████████████████████████████████▎                                                                                                      | 41/100 [00:28<00:40,  1.46it/s]"
     ]
    },
    {
     "name": "stdout",
     "output_type": "stream",
     "text": [
      "Epoch 40 Train Loss 4.732968422566483 Test :pss 4.7331132198038075\n"
     ]
    },
    {
     "name": "stderr",
     "output_type": "stream",
     "text": [
      " 51%|████████████████████████████████████████████████████████████████████████████████████████▋                                                                                     | 51/100 [00:35<00:32,  1.53it/s]"
     ]
    },
    {
     "name": "stdout",
     "output_type": "stream",
     "text": [
      "Epoch 50 Train Loss 4.732968422566483 Test :pss 4.7331132198038075\n"
     ]
    },
    {
     "name": "stderr",
     "output_type": "stream",
     "text": [
      " 61%|██████████████████████████████████████████████████████████████████████████████████████████████████████████▏                                                                   | 61/100 [00:41<00:24,  1.58it/s]"
     ]
    },
    {
     "name": "stdout",
     "output_type": "stream",
     "text": [
      "Epoch 60 Train Loss 4.732968422566483 Test :pss 4.7331132198038075\n"
     ]
    },
    {
     "name": "stderr",
     "output_type": "stream",
     "text": [
      " 71%|███████████████████████████████████████████████████████████████████████████████████████████████████████████████████████████▌                                                  | 71/100 [00:48<00:18,  1.56it/s]"
     ]
    },
    {
     "name": "stdout",
     "output_type": "stream",
     "text": [
      "Epoch 70 Train Loss 4.732968422566483 Test :pss 4.7331132198038075\n"
     ]
    },
    {
     "name": "stderr",
     "output_type": "stream",
     "text": [
      " 81%|████████████████████████████████████████████████████████████████████████████████████████████████████████████████████████████████████████████▉                                 | 81/100 [00:54<00:12,  1.58it/s]"
     ]
    },
    {
     "name": "stdout",
     "output_type": "stream",
     "text": [
      "Epoch 80 Train Loss 4.732968422566483 Test :pss 4.7331132198038075\n"
     ]
    },
    {
     "name": "stderr",
     "output_type": "stream",
     "text": [
      " 91%|██████████████████████████████████████████████████████████████████████████████████████████████████████████████████████████████████████████████████████████████▎               | 91/100 [01:00<00:05,  1.59it/s]"
     ]
    },
    {
     "name": "stdout",
     "output_type": "stream",
     "text": [
      "Epoch 90 Train Loss 4.732968422566483 Test :pss 4.7331132198038075\n"
     ]
    },
    {
     "name": "stderr",
     "output_type": "stream",
     "text": [
      "100%|█████████████████████████████████████████████████████████████████████████████████████████████████████████████████████████████████████████████████████████████████████████████| 100/100 [01:07<00:00,  1.49it/s]\n"
     ]
    }
   ],
   "source": [
    "train_losses = []\n",
    "test_losses = []\n",
    "model_checkpoints = []\n",
    "checkpoint_epochs = []\n",
    "for epoch in tqdm.tqdm(range(num_epochs)):\n",
    "    train_logits = model(train_data)\n",
    "    train_loss = loss_fn(train_logits,train_labels)\n",
    "    train_loss.backward()\n",
    "    train_losses.append(train_loss.item())\n",
    "\n",
    "    with torch.inference_mode():\n",
    "        test_logits = model(test_data)\n",
    "        test_loss = loss_fn(test_logits,test_labels)\n",
    "        test_losses.append(test_loss.item())\n",
    "\n",
    "    if ((epoch)%checkpoint_every)==0:\n",
    "        checkpoint_epochs.append(epoch)\n",
    "        model_checkpoints.append(copy.deepcopy(model.state_dict()))\n",
    "        print(f\"Epoch {epoch} Train Loss {train_loss.item()} Test :pss {test_loss.item()}\")\n"
   ]
  }
 ],
 "metadata": {
  "kernelspec": {
   "display_name": "Python 3 (ipykernel)",
   "language": "python",
   "name": "python3"
  },
  "language_info": {
   "codemirror_mode": {
    "name": "ipython",
    "version": 3
   },
   "file_extension": ".py",
   "mimetype": "text/x-python",
   "name": "python",
   "nbconvert_exporter": "python",
   "pygments_lexer": "ipython3",
   "version": "3.11.7"
  }
 },
 "nbformat": 4,
 "nbformat_minor": 5
}
